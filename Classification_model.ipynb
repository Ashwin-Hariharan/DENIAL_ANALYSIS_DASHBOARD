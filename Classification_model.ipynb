{
 "cells": [
  {
   "cell_type": "code",
   "execution_count": 6,
   "id": "f0a36f1b-907d-402f-a294-8c9d82f7261d",
   "metadata": {},
   "outputs": [
    {
     "name": "stdout",
     "output_type": "stream",
     "text": [
      "=== Denied or Not (Binary) ===\n",
      "Accuracy: 0.91\n",
      "              precision    recall  f1-score   support\n",
      "\n",
      "           0       0.93      0.94      0.94        69\n",
      "           1       0.87      0.84      0.85        31\n",
      "\n",
      "    accuracy                           0.91       100\n",
      "   macro avg       0.90      0.89      0.89       100\n",
      "weighted avg       0.91      0.91      0.91       100\n",
      "\n",
      "\n",
      "=== Denial Reason (Multiclass) ===\n",
      "Accuracy: 0.8\n",
      "                                  precision    recall  f1-score   support\n",
      "\n",
      "        16 - Missing information       0.00      0.00      0.00         6\n",
      "45 - Charge exceeds fee schedule       0.58      1.00      0.74         7\n",
      "        96 - Non-covered service       0.94      1.00      0.97        17\n",
      "\n",
      "                        accuracy                           0.80        30\n",
      "                       macro avg       0.51      0.67      0.57        30\n",
      "                    weighted avg       0.67      0.80      0.72        30\n",
      "\n"
     ]
    },
    {
     "name": "stderr",
     "output_type": "stream",
     "text": [
      "C:\\Users\\ashwi\\anaconda3\\Lib\\site-packages\\sklearn\\metrics\\_classification.py:1531: UndefinedMetricWarning: Precision is ill-defined and being set to 0.0 in labels with no predicted samples. Use `zero_division` parameter to control this behavior.\n",
      "  _warn_prf(average, modifier, f\"{metric.capitalize()} is\", len(result))\n",
      "C:\\Users\\ashwi\\anaconda3\\Lib\\site-packages\\sklearn\\metrics\\_classification.py:1531: UndefinedMetricWarning: Precision is ill-defined and being set to 0.0 in labels with no predicted samples. Use `zero_division` parameter to control this behavior.\n",
      "  _warn_prf(average, modifier, f\"{metric.capitalize()} is\", len(result))\n",
      "C:\\Users\\ashwi\\anaconda3\\Lib\\site-packages\\sklearn\\metrics\\_classification.py:1531: UndefinedMetricWarning: Precision is ill-defined and being set to 0.0 in labels with no predicted samples. Use `zero_division` parameter to control this behavior.\n",
      "  _warn_prf(average, modifier, f\"{metric.capitalize()} is\", len(result))\n"
     ]
    }
   ],
   "source": [
    "import pandas as pd\n",
    "import numpy as np\n",
    "from sklearn.model_selection import train_test_split\n",
    "from sklearn.ensemble import RandomForestClassifier\n",
    "from sklearn.preprocessing import LabelEncoder\n",
    "from sklearn.metrics import classification_report, accuracy_score\n",
    "from collections import Counter\n",
    "\n",
    "df = pd.read_excel(r'C:\\Users\\ashwi\\GUVI_Projects\\Job\\Tensaw\\Ass\\AR_performance_review_synthetic.xlsx')\n",
    "\n",
    "df.columns = df.columns.str.strip().str.lower().str.replace(' ', '_')\n",
    "df['denial_reason'] = df['denial_reason'].fillna(\"Not Denied\")\n",
    "df['denied'] = (df['denial_reason'] != \"Not Denied\").astype(int)\n",
    "\n",
    "label_encoders = {}\n",
    "categorical_cols = ['cpt_code', 'insurance_company', 'physician_name']\n",
    "for col in categorical_cols:\n",
    "    le = LabelEncoder()\n",
    "    df[col] = le.fit_transform(df[col])\n",
    "    label_encoders[col] = le\n",
    "\n",
    "df['payment_amount'] = pd.to_numeric(df['payment_amount'], errors='coerce').fillna(0)\n",
    "df['balance'] = pd.to_numeric(df['balance'], errors='coerce').fillna(0)\n",
    "\n",
    "features = ['cpt_code', 'insurance_company', 'physician_name', 'payment_amount', 'balance']\n",
    "X = df[features]\n",
    "y_binary = df['denied']\n",
    "y_multiclass = df[df['denied'] == 1]['denial_reason'] \n",
    "X_multiclass = df[df['denied'] == 1][features]\n",
    "\n",
    "X_train_bin, X_test_bin, y_train_bin, y_test_bin = train_test_split(X, y_binary, test_size=0.2, random_state=42)\n",
    "X_train_multi, X_test_multi, y_train_multi, y_test_multi = train_test_split(X_multiclass, y_multiclass, test_size=0.2, random_state=42)\n",
    "clf_bin = RandomForestClassifier(random_state=42, class_weight=\"balanced\")\n",
    "clf_bin.fit(X_train_bin, y_train_bin)\n",
    "y_pred_bin = clf_bin.predict(X_test_bin)\n",
    "\n",
    "print(\"=== Denied or Not (Binary) ===\")\n",
    "print(\"Accuracy:\", accuracy_score(y_test_bin, y_pred_bin))\n",
    "print(classification_report(y_test_bin, y_pred_bin))\n",
    "\n",
    "le_reason = LabelEncoder()\n",
    "y_train_multi_enc = le_reason.fit_transform(y_train_multi)\n",
    "y_test_multi_enc = le_reason.transform(y_test_multi)\n",
    "\n",
    "clf_multi = RandomForestClassifier(random_state=42, class_weight=\"balanced\")\n",
    "clf_multi.fit(X_train_multi, y_train_multi_enc)\n",
    "y_pred_multi = clf_multi.predict(X_test_multi)\n",
    "\n",
    "print(\"\\n=== Denial Reason (Multiclass) ===\")\n",
    "print(\"Accuracy:\", accuracy_score(y_test_multi_enc, y_pred_multi))\n",
    "print(classification_report(y_test_multi_enc, y_pred_multi, target_names=le_reason.classes_))\n"
   ]
  }
 ],
 "metadata": {
  "kernelspec": {
   "display_name": "Python 3 (ipykernel)",
   "language": "python",
   "name": "python3"
  },
  "language_info": {
   "codemirror_mode": {
    "name": "ipython",
    "version": 3
   },
   "file_extension": ".py",
   "mimetype": "text/x-python",
   "name": "python",
   "nbconvert_exporter": "python",
   "pygments_lexer": "ipython3",
   "version": "3.12.7"
  }
 },
 "nbformat": 4,
 "nbformat_minor": 5
}
