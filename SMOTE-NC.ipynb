{
 "cells": [
  {
   "cell_type": "code",
   "execution_count": 122,
   "id": "869fbffc-dd63-4176-9029-45a1702cc5a2",
   "metadata": {},
   "outputs": [],
   "source": [
    "import pandas as pd\n",
    "import numpy as np\n",
    "from sklearn.preprocessing import LabelEncoder\n",
    "from imblearn.over_sampling import SMOTENC\n",
    "\n",
    "df = pd.read_excel(r\"C:\\Users\\ashwi\\GUVI_Projects\\Job\\Tensaw\\Ass\\AR - performance review - input.xlsx\",header=2)"
   ]
  },
  {
   "cell_type": "code",
   "execution_count": 123,
   "id": "81defdf7-3c27-4a97-9c03-fce256674bfb",
   "metadata": {},
   "outputs": [
    {
     "name": "stderr",
     "output_type": "stream",
     "text": [
      "<>:3: SyntaxWarning: invalid escape sequence '\\$'\n",
      "<>:4: SyntaxWarning: invalid escape sequence '\\$'\n",
      "<>:3: SyntaxWarning: invalid escape sequence '\\$'\n",
      "<>:4: SyntaxWarning: invalid escape sequence '\\$'\n",
      "C:\\Users\\ashwi\\AppData\\Local\\Temp\\ipykernel_21500\\3263926301.py:3: SyntaxWarning: invalid escape sequence '\\$'\n",
      "  df['payment_amount'] = df['payment_amount'].replace('[\\$,]', '', regex=True).astype(float)\n",
      "C:\\Users\\ashwi\\AppData\\Local\\Temp\\ipykernel_21500\\3263926301.py:4: SyntaxWarning: invalid escape sequence '\\$'\n",
      "  df['balance'] = df['balance'].replace('[\\$,]', '', regex=True).astype(float)\n",
      "C:\\Users\\ashwi\\AppData\\Local\\Temp\\ipykernel_21500\\3263926301.py:6: FutureWarning: A value is trying to be set on a copy of a DataFrame or Series through chained assignment using an inplace method.\n",
      "The behavior will change in pandas 3.0. This inplace method will never work because the intermediate object on which we are setting values always behaves as a copy.\n",
      "\n",
      "For example, when doing 'df[col].method(value, inplace=True)', try using 'df.method({col: value}, inplace=True)' or df[col] = df[col].method(value) instead, to perform the operation inplace on the original object.\n",
      "\n",
      "\n",
      "  df['payment_amount'].fillna(df['payment_amount'].median(), inplace=True)\n",
      "C:\\Users\\ashwi\\AppData\\Local\\Temp\\ipykernel_21500\\3263926301.py:7: FutureWarning: A value is trying to be set on a copy of a DataFrame or Series through chained assignment using an inplace method.\n",
      "The behavior will change in pandas 3.0. This inplace method will never work because the intermediate object on which we are setting values always behaves as a copy.\n",
      "\n",
      "For example, when doing 'df[col].method(value, inplace=True)', try using 'df.method({col: value}, inplace=True)' or df[col] = df[col].method(value) instead, to perform the operation inplace on the original object.\n",
      "\n",
      "\n",
      "  df['balance'].fillna(df['balance'].median(), inplace=True)\n",
      "C:\\Users\\ashwi\\AppData\\Local\\Temp\\ipykernel_21500\\3263926301.py:9: FutureWarning: A value is trying to be set on a copy of a DataFrame or Series through chained assignment using an inplace method.\n",
      "The behavior will change in pandas 3.0. This inplace method will never work because the intermediate object on which we are setting values always behaves as a copy.\n",
      "\n",
      "For example, when doing 'df[col].method(value, inplace=True)', try using 'df.method({col: value}, inplace=True)' or df[col] = df[col].method(value) instead, to perform the operation inplace on the original object.\n",
      "\n",
      "\n",
      "  df[col].fillna(df[col].mode()[0], inplace=True)\n"
     ]
    }
   ],
   "source": [
    "df = df.loc[:, ~df.columns.str.contains('^Unnamed')]\n",
    "df.columns = df.columns.str.strip().str.lower().str.replace(' ', '_')\n",
    "df['payment_amount'] = df['payment_amount'].replace('[\\$,]', '', regex=True).astype(float)\n",
    "df['balance'] = df['balance'].replace('[\\$,]', '', regex=True).astype(float)\n",
    "df['denied'] = df['denial_reason'].notnull().astype(int)\n",
    "df['payment_amount'].fillna(df['payment_amount'].median(), inplace=True)\n",
    "df['balance'].fillna(df['balance'].median(), inplace=True)\n",
    "for col in ['insurance_company', 'physician_name', 'cpt_code']:\n",
    "    df[col].fillna(df[col].mode()[0], inplace=True)"
   ]
  },
  {
   "cell_type": "code",
   "execution_count": 124,
   "id": "3b03129e-5d16-4f7d-858f-fd2fb6203668",
   "metadata": {},
   "outputs": [],
   "source": [
    "le_insurance = LabelEncoder()\n",
    "le_physician = LabelEncoder()\n",
    "le_cpt = LabelEncoder()\n",
    "df['insurance_company'] = le_insurance.fit_transform(df['insurance_company'])\n",
    "df['physician_name'] = le_physician.fit_transform(df['physician_name'])\n",
    "df['cpt_code'] = le_cpt.fit_transform(df['cpt_code'])\n",
    "\n",
    "X = df[['insurance_company', 'physician_name', 'cpt_code', 'payment_amount', 'balance']]\n",
    "y = df['denied']\n",
    "cat_indices = [0, 1, 2]\n",
    "\n",
    "smote_nc = SMOTENC(categorical_features=cat_indices, random_state=42)\n",
    "X_resampled, y_resampled = smote_nc.fit_resample(X, y)"
   ]
  },
  {
   "cell_type": "code",
   "execution_count": 125,
   "id": "9b80d3c3-d620-407c-8d06-841b94151dd6",
   "metadata": {},
   "outputs": [],
   "source": [
    "##Recreation of datapoints"
   ]
  },
  {
   "cell_type": "code",
   "execution_count": 126,
   "id": "1a715f9f-0363-4e36-b013-b8e616c87ffc",
   "metadata": {},
   "outputs": [],
   "source": [
    "df_resampled = pd.DataFrame(X_resampled, columns=X.columns)\n",
    "df_resampled['denied'] = y_resampled\n",
    "\n",
    "df_resampled['payment_amount'] = (df_resampled['payment_amount'] / 10).round() * 10\n",
    "df_resampled['balance'] = (df_resampled['balance'] / 10).round() * 10\n",
    "df_resampled['payment_amount'] = df_resampled['payment_amount'].astype(int)\n",
    "df_resampled['balance'] = df_resampled['balance'].astype(int)\n",
    "\n",
    "df_resampled['insurance_company'] = le_insurance.inverse_transform(df_resampled['insurance_company'].astype(int))\n",
    "df_resampled['physician_name'] = le_physician.inverse_transform(df_resampled['physician_name'].astype(int))\n",
    "df_resampled['cpt_code'] = le_cpt.inverse_transform(df_resampled['cpt_code'].astype(int))\n",
    "denial_reasons = ['16 - Missing information', '45 - Charge exceeds fee schedule', '96 - Non-covered service', '']\n",
    "df_resampled['denied'] = df_resampled['denied'].fillna(0).astype(int)\n",
    "df_resampled['denial_reason'] = \"Not Denied\"\n",
    "denied_mask = df_resampled['denied'] == 1\n",
    "df_resampled.loc[denied_mask, 'denial_reason'] = np.random.choice(\n",
    "    denial_reasons, size=denied_mask.sum(), replace=True\n",
    ")\n",
    "df_resampled['denial_reason'] = df_resampled['denial_reason'].replace('', 'Not Denied').fillna(\"Not Denied\")"
   ]
  },
  {
   "cell_type": "code",
   "execution_count": 127,
   "id": "22a6f8b3-91e2-430b-b640-131e50f54504",
   "metadata": {},
   "outputs": [
    {
     "name": "stdout",
     "output_type": "stream",
     "text": [
      "Generated your dataset\n"
     ]
    }
   ],
   "source": [
    "df_final = df_resampled[['cpt_code', 'insurance_company', 'physician_name', 'payment_amount', 'balance', 'denial_reason']]\n",
    "df_final = df_final.sample(n=500, replace=True, random_state=42)\n",
    "output_path = r'C:\\Users\\ashwi\\GUVI_Projects\\Job\\Tensaw\\Ass\\AR_performance_review_synthetic.xlsx'\n",
    "df_final.to_excel(output_path, index=False)\n",
    "print(\"Generated your dataset\")"
   ]
  }
 ],
 "metadata": {
  "kernelspec": {
   "display_name": "Python 3 (ipykernel)",
   "language": "python",
   "name": "python3"
  },
  "language_info": {
   "codemirror_mode": {
    "name": "ipython",
    "version": 3
   },
   "file_extension": ".py",
   "mimetype": "text/x-python",
   "name": "python",
   "nbconvert_exporter": "python",
   "pygments_lexer": "ipython3",
   "version": "3.12.7"
  }
 },
 "nbformat": 4,
 "nbformat_minor": 5
}
